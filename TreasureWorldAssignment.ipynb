{
 "cells": [
  {
   "cell_type": "markdown",
   "metadata": {},
   "source": [
    "## Brief :\n",
    "\n",
    "Write a ASCII text based python program that will allow a player to play a game of Treasure World\n",
    "In this game the player plays in a 2D grid world that is filled with\n",
    "\n",
    "- Mainly nothing\n",
    "- Gold!! :)\n",
    "- Sharks :(\n",
    "- And Uranium ?!?!\n",
    "\n",
    "The player can navigate around the world, trying to find the gold, avoid the sharks and when they find the uranium they are 3 rounds of omniscience (all knowing - so the player can “see” where the treasure and the sharks are - but not any more uranium)"
   ]
  },
  {
   "cell_type": "markdown",
   "metadata": {},
   "source": [
    "## Game requirements\n",
    "\n",
    "1)\tThe program should randomly generate worlds (gold, sharks and uranium) randomly, but there should be more “nothing” than G,S,U.\n",
    "\n",
    "2)\tThe player should see the world (where they are, where the \"grid\" is?) but not the detail (not where sharks or gold or uranium is - more about this below)\n",
    "\n",
    "3) When the player picks up gold it is replaced with “nothing” and the player's score goes up\n",
    "\n",
    "4) The player wins when they find all the gold and loses if they hit a shark…. \n",
    "\n",
    "5) Uranium works as follows: when the player finds the uranium they are given 3 rounds of **omniscience** (all knowing - so the player can “see” where the treasure and the sharks are - but not any more uranium)"
   ]
  },
  {
   "cell_type": "markdown",
   "metadata": {},
   "source": [
    "## Decisions you will need to make:\n",
    "\n",
    "1)  You can decide on the size of the grid. You may want to start 10x10, but code it in such as way that you could increase the grid size easily once the game is working.\n",
    "\n",
    "2) How to show the world and the details (its ok to just put S for sharks, G for gold, U for uranium and space for nothing, but you might want to make it a little fancier\n",
    "\n",
    "3) You will  need to decide how many of each type of thing is on the grid. Mainly nothing.\n",
    "\n",
    "4) How will the player move? what keys will they use? in which direction(s) are they allowed to move? \n",
    "\n",
    "5) What will happend to the player when they get to the edge of the world?\n",
    "\n",
    "6) Any other decisions you make which will affect your game"
   ]
  },
  {
   "cell_type": "markdown",
   "metadata": {},
   "source": [
    "## list your decisions below:\n",
    "\n",
    "1)\n",
    "\n",
    "2)"
   ]
  },
  {
   "cell_type": "code",
   "execution_count": 1,
   "metadata": {},
   "outputs": [],
   "source": [
    "#this function will create a grid of the given size as the game world. It will be empty\n",
    "def createEmptyWorld (cols, rows):\n",
    "    \n",
    "    grid = []\n",
    "    for i in range (rows):\n",
    "        row=[]\n",
    "        for j in range (cols):\n",
    "            row.append(\" \")\n",
    "        grid.append(row)\n",
    "    \n",
    "    return grid"
   ]
  },
  {
   "cell_type": "code",
   "execution_count": null,
   "metadata": {},
   "outputs": [],
   "source": [
    "#write the function to create a random world with Sharks and Gold and Uranium\n",
    "improt random\n",
    "def createRandomWorld(cols, rows)\n",
    "    grid = []\n",
    "    for i in range (rows):\n",
    "        row=[]\n",
    "        for j in range (cols):\n",
    "            # write code here to randomly create S. G. U or space... then append to row\n",
    "        \n",
    "        grid.append(row)\n",
    "    \n",
    "    return grid"
   ]
  },
  {
   "cell_type": "code",
   "execution_count": 2,
   "metadata": {},
   "outputs": [],
   "source": [
    "#this function prints the world in a user friendly way\n",
    "def printWorld(world):\n",
    "    \n",
    "    for row in range (len(world)):\n",
    "        for col in range (len(world[row])):\n",
    "            print(world[row][col], end=\" | \")\n",
    "        print()\n"
   ]
  },
  {
   "cell_type": "code",
   "execution_count": 5,
   "metadata": {},
   "outputs": [
    {
     "name": "stdout",
     "output_type": "stream",
     "text": [
      "  |   |   |   |   |   |   |   |   |   |   |   |   |   |   |   |   |   |   |   | \n",
      "  |   |   |   |   |   |   |   |   |   |   |   |   |   |   |   |   |   |   |   | \n",
      "  |   |   |   |   |   |   |   |   |   |   |   |   |   |   |   |   |   |   |   | \n",
      "  |   |   |   |   |   |   |   |   |   |   |   |   |   |   |   |   |   |   |   | \n",
      "  |   |   |   |   |   |   |   |   |   |   |   |   |   |   |   |   |   |   |   | \n",
      "  |   |   |   |   |   |   |   |   |   |   |   |   |   |   |   |   |   |   |   | \n",
      "  |   |   |   |   |   |   |   |   |   |   |   |   |   |   |   |   |   |   |   | \n",
      "  |   |   |   |   |   |   |   |   |   |   |   |   |   |   |   |   |   |   |   | \n",
      "  |   |   |   |   |   |   |   |   |   |   |   |   |   |   |   |   |   |   |   | \n",
      "  |   |   |   |   |   |   |   |   |   |   |   |   |   |   |   |   |   |   |   | \n",
      "  |   |   |   |   |   |   |   |   |   |   |   |   |   |   |   |   |   |   |   | \n",
      "  |   |   |   |   |   |   |   |   |   |   |   |   |   |   |   |   |   |   |   | \n",
      "  |   |   |   |   |   |   |   |   |   |   |   |   |   |   |   |   |   |   |   | \n",
      "  |   |   |   |   |   |   |   |   |   |   |   |   |   |   |   |   |   |   |   | \n",
      "  |   |   |   |   |   |   |   |   |   |   |   |   |   |   |   |   |   |   |   | \n",
      "  |   |   |   |   |   |   |   |   |   |   |   |   |   |   |   |   |   |   |   | \n",
      "  |   |   |   |   |   |   |   |   |   |   |   |   |   |   |   |   |   |   |   | \n",
      "  |   |   |   |   |   |   |   |   |   |   |   |   |   |   |   |   |   |   |   | \n",
      "  |   |   |   |   |   |   |   |   |   |   |   |   |   |   |   |   |   |   |   | \n",
      "  |   |   |   |   |   |   |   |   |   |   |   |   |   |   |   |   |   |   |   | \n",
      "  |   |   |   |   |   |   |   |   |   |   |   |   |   |   |   |   |   |   |   | \n",
      "  |   |   |   |   |   |   |   |   |   |   |   |   |   |   |   |   |   |   |   | \n",
      "  |   |   |   |   |   |   |   |   |   |   |   |   |   |   |   |   |   |   |   | \n",
      "  |   |   |   |   |   |   |   |   |   |   |   |   |   |   |   |   |   |   |   | \n",
      "  |   |   |   |   |   |   |   |   |   |   |   |   |   |   |   |   |   |   |   | \n",
      "  |   |   |   |   |   |   |   |   |   |   |   |   |   |   |   |   |   |   |   | \n",
      "  |   |   |   |   |   |   |   |   |   |   |   |   |   |   |   |   |   |   |   | \n",
      "  |   |   |   |   |   |   |   |   |   |   |   |   |   |   |   |   |   |   |   | \n",
      "  |   |   |   |   |   |   |   |   |   |   |   |   |   |   |   |   |   |   |   | \n",
      "  |   |   |   |   |   |   |   |   |   |   |   |   |   |   |   |   |   |   |   | \n"
     ]
    }
   ],
   "source": [
    "#testing the function\n",
    "world = createEmptyWorld(20,30)\n",
    "#print(world) # debug print\n",
    "printWorld(world)"
   ]
  },
  {
   "cell_type": "code",
   "execution_count": null,
   "metadata": {},
   "outputs": [],
   "source": []
  }
 ],
 "metadata": {
  "kernelspec": {
   "display_name": "Python 3",
   "language": "python",
   "name": "python3"
  },
  "language_info": {
   "codemirror_mode": {
    "name": "ipython",
    "version": 3
   },
   "file_extension": ".py",
   "mimetype": "text/x-python",
   "name": "python",
   "nbconvert_exporter": "python",
   "pygments_lexer": "ipython3",
   "version": "3.5.2"
  }
 },
 "nbformat": 4,
 "nbformat_minor": 2
}
